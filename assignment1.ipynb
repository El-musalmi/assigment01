{
 "cells": [
  {
   "cell_type": "code",
   "execution_count": null,
   "metadata": {},
   "outputs": [],
   "source": [
    "#Question :#00\n",
    "\"\"\"Write program doing print you are Fullname and department\"\"\" \n"
   ]
  },
  {
   "cell_type": "code",
   "execution_count": null,
   "metadata": {},
   "outputs": [],
   "source": [
    "#Question :#01\n",
    "\"\"\"If we have a string variable named Weather = \"Rainfall\", \n",
    "which of the following will print the substring or all characters before the \"f\"?\"\"\""
   ]
  },
  {
   "cell_type": "code",
   "execution_count": null,
   "metadata": {},
   "outputs": [],
   "source": [
    "#Question :#02\n",
    "\"\"\"Fill in the correct Python commands to put “This is fun!” onto the screen 5 times\"\"\"\n",
    "for i in range():\n",
    "  print(\"This is fun!\")\n",
    " "
   ]
  },
  {
   "cell_type": "code",
   "execution_count": null,
   "metadata": {},
   "outputs": [],
   "source": [
    "#Question :#03\n",
    "\"\"\"Complete the script by filling in the missing parts. The function receives a name,\n",
    "then returns a greeting based on whether or not that name is \"Mohammed\"\"\"\n",
    "def greeting(name):\n",
    "  if ___ == \"Mohammed\":\n",
    "    return \"Welcome back Mohammed!\"\n",
    "  ___:\n",
    "    return \"Hello there, \" + name\n",
    "\n",
    "print(greeting(\"Mohammed \"))\n",
    "print(greeting(\"Ahmed\"))\n"
   ]
  },
  {
   "cell_type": "code",
   "execution_count": null,
   "metadata": {},
   "outputs": [],
   "source": [
    "#Question#04\n",
    "\"\"\"What’s the output of this code if number equals 10?\"\"\"\n",
    "if number > 11: \n",
    "  print(0)\n",
    "elif number != 10:\n",
    "  print(1)\n",
    "elif number >= 20 or number < 12:\n",
    "  print(2)\n",
    "else:\n",
    "  print(3)\n"
   ]
  },
  {
   "cell_type": "code",
   "execution_count": null,
   "metadata": {},
   "outputs": [],
   "source": [
    "#Question#05\n",
    "\"\"\"If a filesystem has a block size of 4096 bytes,\n",
    "this means that a file comprised of only one byte will still use 4096 bytes of storage. \n",
    "A file made up of 4097 bytes will use 4096*2=8192 bytes of storage. Knowing this, \n",
    "can you fill in the gaps in the calculate storage function below,\n",
    "which calculates the total number of bytes needed to store a file of a given size?\"\"\" \n",
    "def calculate_storage(filesize):\n",
    "    block_size = 4096\n",
    "    # Use floor division to calculate how many blocks are fully occupied\n",
    "    full_blocks = ___\n",
    "    # Use the modulo operator to check whether there's any remainder\n",
    "    partial_block_remainder = ___\n",
    "    # Depending on whether there's a remainder or not, return\n",
    "    # the total number of bytes required to allocate enough blocks\n",
    "    # to store your data.\n",
    "    if partial_block_remainder > 0:\n",
    "        return ___\n",
    "    return ___\n",
    "\n",
    "print(calculate_storage(1))    # Should be 4096\n",
    "print(calculate_storage(4096)) # Should be 4096\n",
    "print(calculate_storage(4097)) # Should be 8192\n",
    "print(calculate_storage(6000)) # Should be 8192\n",
    "\n"
   ]
  },
  {
   "cell_type": "code",
   "execution_count": null,
   "metadata": {},
   "outputs": [],
   "source": [
    "#Question#06\n",
    "\"\"\"Fill in the blanks to make the print_prime_factors function \n",
    "print all the prime factors of a number.\n",
    "A prime factor is a number that is prime and divides another without a remainder.\"\"\"\n",
    "def print_prime_factors(number):\n",
    "  # Start with two, which is the first prime\n",
    "  factor = ___\n",
    "  # Keep going until the factor is larger than the number\n",
    "  while factor <= number:\n",
    "    # Check if factor is a divisor of number\n",
    "    if number % factor == ___:\n",
    "      # If it is, print it and divide the original number\n",
    "      print(factor)\n",
    "      number = number / factor\n",
    "    else:\n",
    "      # If it's not, increment the factor by one\n",
    "      ___\n",
    "  return \"Done\"\n",
    "\n",
    "print_prime_factors(100)\n",
    "# Should print 2,2,5,5\n",
    "# DO NOT DELETE THIS COMMENT\n",
    "\n"
   ]
  },
  {
   "cell_type": "code",
   "execution_count": null,
   "metadata": {},
   "outputs": [],
   "source": [
    "#Question#07\n",
    "\"\"\"The following code can lead to an infinite loop.\n",
    "Fix the code so that it can finish successfully for all numbers.\"\"\"\n",
    "#Note: Try running your function with the number 0 as the input, and see what you get! \n",
    "def is_power_of_two(n):\n",
    "  # Check if the number can be divided by two without a remainder\n",
    "  while n % 2 == 0:\n",
    "    n = n / 2\n",
    "  # If after dividing by two the number is 1, it's a power of two\n",
    "  if n == 1:\n",
    "    return True\n",
    "  return False\n",
    "  \n",
    "\n",
    "print(is_power_of_two(0)) # Should be False\n",
    "print(is_power_of_two(1)) # Should be True\n",
    "print(is_power_of_two(8)) # Should be True\n",
    "print(is_power_of_two(9)) # Should be False\n"
   ]
  },
  {
   "cell_type": "code",
   "execution_count": null,
   "metadata": {},
   "outputs": [],
   "source": [
    "#Question#08\n",
    "\"\"\"Fill in the empty function so that it returns the sum of all the divisors of a number, \n",
    "without including it. \n",
    "A divisor is a number that divides into another without a remainder\"\"\"\n",
    "def sum_divisors(n):\n",
    "  sum = 0\n",
    "  # Return the sum of all divisors of n, not including n\n",
    "  return sum\n",
    "\n",
    "print(sum_divisors(0))\n",
    "# 0\n",
    "print(sum_divisors(3)) # Should sum of 1\n",
    "# 1\n",
    "print(sum_divisors(36)) # Should sum of 1+2+3+4+6+9+12+18\n",
    "# 55\n",
    "print(sum_divisors(102)) # Should be sum of 2+3+6+17+34+51\n",
    "# 114\n"
   ]
  },
  {
   "cell_type": "code",
   "execution_count": null,
   "metadata": {},
   "outputs": [],
   "source": [
    "#Question#09 \n",
    "\"\"\"Suppose that you have a list 10 items long. How\n",
    "might you move the last three items from the end of the list to the beginning,\n",
    "keeping them in the same order?\"\"\""
   ]
  },
  {
   "cell_type": "code",
   "execution_count": null,
   "metadata": {},
   "outputs": [],
   "source": [
    "#Question#10\n",
    "\"\"\"Explain why the following operations aren’t legal for\n",
    "the tuple x = (1, 2, 3, 4):\"\"\"\n",
    "x.append(1)\n",
    "x[1] = \"hello\"\n",
    "del x[2]"
   ]
  }
 ],
 "metadata": {
  "kernelspec": {
   "display_name": "Python 3.10.7 64-bit",
   "language": "python",
   "name": "python3"
  },
  "language_info": {
   "name": "python",
   "version": "3.10.7"
  },
  "orig_nbformat": 4,
  "vscode": {
   "interpreter": {
    "hash": "d87b3d50e45a2c711c93908fb662cf8a91c691e3cc544be12a87b6407bb1daaa"
   }
  }
 },
 "nbformat": 4,
 "nbformat_minor": 2
}
